{
 "cells": [
  {
   "cell_type": "code",
   "execution_count": 1,
   "id": "90f8311e",
   "metadata": {},
   "outputs": [],
   "source": [
    "import math\n",
    "import matplotlib.pyplot as plt\n",
    "import numpy as np"
   ]
  },
  {
   "cell_type": "code",
   "execution_count": 2,
   "id": "eb1ed5c8",
   "metadata": {},
   "outputs": [],
   "source": [
    "def integration_two_point_gauss(function, x1, x2, h):\n",
    "    n = int((x2-x1)/h)\n",
    "    x_values = [x1+h*i for i in range(n)]    \n",
    "    integral = 0\n",
    "    \n",
    "    for x in x_values:\n",
    "        x1 = x\n",
    "        x2 = x1 + h\n",
    "\n",
    "        a = (x1+x2)/2.0 - (x2-x1)/(2.0*math.sqrt(3.0))\n",
    "        b = (x1+x2)/2.0 + (x2-x1)/(2.0*math.sqrt(3.0))\n",
    "\n",
    "        f_a = function(a)\n",
    "        f_b = function(b)\n",
    "\n",
    "        integral_gauss = h*(f_a+f_b)/2.0\n",
    "        integral = integral + integral_gauss\n",
    "\n",
    "    return integral"
   ]
  },
  {
   "cell_type": "code",
   "execution_count": 3,
   "id": "96eac782",
   "metadata": {},
   "outputs": [],
   "source": [
    "A3 = 143.910092 #mass of parent nucleus\n",
    "Z = 60         #atomic number of parent nucleus\n",
    "A1 = 139.905448 #mass of daughter nucleus\n",
    "A2 = 4.002603\n",
    "hc = 197\n",
    "fs = 1/137\n",
    "R = 1.2*((A1**(1/3))+(A2**(1/3)))\n",
    "malpha = A2*A1*931.49/A3\n",
    "Q = (A3-A1-A2)*931.49\n",
    "pi = math.pi\n",
    "c = 3*(10**23)\n",
    "b = 2*(Z-2)*hc*fs/Q\n",
    "v = c*math.sqrt(2*Q/malpha)\n",
    "vc = v/(2*R)\n",
    "h = 0.0001"
   ]
  },
  {
   "cell_type": "markdown",
   "id": "212acc49",
   "metadata": {},
   "source": [
    "Square Well"
   ]
  },
  {
   "cell_type": "code",
   "execution_count": 4,
   "id": "36a84d9f",
   "metadata": {},
   "outputs": [
    {
     "name": "stdout",
     "output_type": "stream",
     "text": [
      "5.542827137248644e+22\n"
     ]
    }
   ],
   "source": [
    "\n",
    "G = math.sqrt(2*malpha*Q)*b*(pi/2 - 2*math.sqrt(R/b))/hc\n",
    "T = math.exp(-2*G)\n",
    "lam = vc*T\n",
    "T_half = math.log(2)/lam\n",
    "print(T_half)"
   ]
  },
  {
   "cell_type": "code",
   "execution_count": 5,
   "id": "ea030524",
   "metadata": {},
   "outputs": [
    {
     "name": "stdout",
     "output_type": "stream",
     "text": [
      "1.7798055958427078e+22\n"
     ]
    }
   ],
   "source": [
    "V0 = 50\n",
    "a = 0.5\n",
    "E = Q\n",
    "def Vws(r):\n",
    "    return -V0/(1+math.exp((r-R)/a))\n",
    "def Vc(r):\n",
    "    if r<=R:\n",
    "        return 2*(Z-2)*hc*fs*(3-((r/R)**2))/(2*R)\n",
    "    if r>R:\n",
    "        return 2*(Z-2)*hc*fs/r\n",
    "def k(r):\n",
    "    V = Vc(r)+Vws(r)\n",
    "    return math.sqrt(2*malpha*abs(V-E))/hc\n",
    "G = integration_two_point_gauss(k, R, b, h)\n",
    "T = np.exp(-2*G)\n",
    "lam = vc*T\n",
    "T_half = math.log(2)/lam\n",
    "print(T_half)"
   ]
  },
  {
   "cell_type": "markdown",
   "id": "4ef03584",
   "metadata": {},
   "source": [
    "Wood-Saxon Potential"
   ]
  },
  {
   "cell_type": "code",
   "execution_count": 6,
   "id": "1bd83fed",
   "metadata": {},
   "outputs": [
    {
     "data": {
      "text/plain": [
       "[<matplotlib.lines.Line2D at 0x20e181f3eb0>]"
      ]
     },
     "execution_count": 6,
     "metadata": {},
     "output_type": "execute_result"
    },
    {
     "data": {
      "image/png": "[encoded data removed]",
      "text/plain": [
       "<Figure size 432x288 with 1 Axes>"
      ]
     },
     "metadata": {
      "needs_background": "light"
     },
     "output_type": "display_data"
    }
   ],
   "source": [
    "r=np.linspace(0,25)\n",
    "lol=[]\n",
    "for ra in r:\n",
    "    lol.append(Vc(ra)+Vws(ra))\n",
    "plt.plot(r,lol)"
   ]
  },
  {
   "cell_type": "code",
   "execution_count": 7,
   "id": "26de9540",
   "metadata": {},
   "outputs": [
    {
     "name": "stdout",
     "output_type": "stream",
     "text": [
      "1.5040683311346897e+23\n",
      "4.608481983242248e-24 50.78647942849438 5.972187527060387e+20\n"
     ]
    }
   ],
   "source": [
    "V0 = 50\n",
    "a = 0.5\n",
    "E = Q\n",
    "def Vws(r):\n",
    "    return -V0/(1+math.exp((r-R)/a))\n",
    "def Vc(r):\n",
    "    if r<=R:\n",
    "        return 2*(Z-2)*hc*fs*(3-((r/R)**2))/(2*R)+Vws(r)\n",
    "    if r>R:\n",
    "        return 2*(Z-2)*hc*fs/r\n",
    "def k(r):\n",
    "    V = Vc(r)\n",
    "    return math.sqrt(2*malpha*abs(V-E))/hc\n",
    "G = integration_two_point_gauss(k, R, b, h)\n",
    "T = np.exp(-2*G)\n",
    "lam = vc*T\n",
    "T_half = math.log(2)/lam\n",
    "print(T_half)\n",
    "print(lam,G,vc)"
   ]
  },
  {
   "cell_type": "code",
   "execution_count": 8,
   "id": "9adebfa3",
   "metadata": {},
   "outputs": [
    {
     "data": {
      "text/plain": [
       "[<matplotlib.lines.Line2D at 0x20e16bde130>]"
      ]
     },
     "execution_count": 8,
     "metadata": {},
     "output_type": "execute_result"
    },
    {
     "data": {
      "image/png": "[encoded data removed]",
      "text/plain": [
       "<Figure size 432x288 with 1 Axes>"
      ]
     },
     "metadata": {
      "needs_background": "light"
     },
     "output_type": "display_data"
    }
   ],
   "source": [
    "# The function written in the notes.pdf is incorrect\n",
    "r=np.linspace(0,25)\n",
    "lol=[]\n",
    "for ra in r:\n",
    "    lol.append(Vc(ra))\n",
    "plt.plot(r,lol)"
   ]
  }
 ],
 "metadata": {
  "interpreter": {
   "hash": "31e9a9fdb727f4cab00c9bb2df7901a2e872a4cc83935cdcfda541b216adb23e"
  },
  "kernelspec": {
   "display_name": "Python 3.9.7 64-bit",
   "language": "python",
   "name": "python3"
  },
  "language_info": {
   "codemirror_mode": {
    "name": "ipython",
    "version": 3
   },
   "file_extension": ".py",
   "mimetype": "text/x-python",
   "name": "python",
   "nbconvert_exporter": "python",
   "pygments_lexer": "ipython3",
   "version": "3.9.7"
  }
 },
 "nbformat": 4,
 "nbformat_minor": 5
}
