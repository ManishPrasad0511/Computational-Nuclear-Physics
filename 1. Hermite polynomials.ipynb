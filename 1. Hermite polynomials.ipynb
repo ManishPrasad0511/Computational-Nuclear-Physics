{
 "cells": [
  {
   "cell_type": "markdown",
   "metadata": {},
   "source": [
    "Exercise 1"
   ]
  },
  {
   "cell_type": "code",
   "execution_count": 1,
   "metadata": {},
   "outputs": [],
   "source": [
    "import numpy as np\n",
    "import math"
   ]
  },
  {
   "cell_type": "code",
   "execution_count": 2,
   "metadata": {},
   "outputs": [],
   "source": [
    "# Constants\n",
    "pi=4*math.atan(1.0)"
   ]
  },
  {
   "cell_type": "code",
   "execution_count": 3,
   "metadata": {},
   "outputs": [],
   "source": [
    "# Integration subroutines\n",
    "# Simpson's rule\n",
    "def simpInt(h, fnc):\n",
    "\tI = (fnc[0] + fnc[len(fnc)-1])\n",
    "\tfor i in range(1,len(fnc)-2,2):\n",
    "\t\tI = I + 4*fnc[i] + 2*fnc[i+1]\n",
    "\tI = I + 4*fnc[i+2]\n",
    "\tI = I*h/3\n",
    "\treturn I"
   ]
  },
  {
   "cell_type": "code",
   "execution_count": 4,
   "metadata": {},
   "outputs": [],
   "source": [
    "# Hermite Subroutine calculates till Hn(x)\n",
    "def hermite(x,n):\n",
    "    H=[1,2*x]\n",
    "    for i in range(1,n):\n",
    "        H.append(2*x*H[i]-2*i*H[i-1])\n",
    "    return H"
   ]
  },
  {
   "cell_type": "code",
   "execution_count": 5,
   "metadata": {},
   "outputs": [],
   "source": [
    "# Coefficient subroutine calculates till N_n\n",
    "def N_coeff(n):                 \n",
    "    factorial=fact(n)\n",
    "    N_c=[]\n",
    "    a=math.sqrt(math.sqrt(pi))\n",
    "    for i in range(len(factorial)):\n",
    "        N_c.append(1/(a*math.sqrt((math.pow(2,i))*factorial[i])))\n",
    "    return N_c"
   ]
  },
  {
   "cell_type": "code",
   "execution_count": 6,
   "metadata": {},
   "outputs": [
    {
     "name": "stdout",
     "output_type": "stream",
     "text": [
      "[1, 1, 2, 6, 24, 120]\n"
     ]
    }
   ],
   "source": [
    "# Q2. Factorial Subroutine\n",
    "# On input \"N\" gives an array of factorials till factorial of N\n",
    "def fact(N):\n",
    "    fct=[1,1]\n",
    "    for i in range(1,N):\n",
    "        fct.append((i+1)*fct[i])\n",
    "    return fct  \n",
    "print(fact(5))"
   ]
  },
  {
   "cell_type": "code",
   "execution_count": 7,
   "metadata": {},
   "outputs": [
    {
     "name": "stdout",
     "output_type": "stream",
     "text": [
      "LHS:\n",
      "5.70028543785625e-17\n",
      "RHS:\n",
      "-0.8862269254527579\n"
     ]
    }
   ],
   "source": [
    "# Q3.\n",
    "def func(x):\n",
    "\treturn ((x*x-1)*np.exp(-(x*x)/2))\n",
    "vfunc = np.vectorize(func)\n",
    "x= np.linspace(-20,20,2001)\n",
    "h = x[1]-x[0]\n",
    "I=simpInt(h,vfunc(x))\n",
    "print(\"LHS:\")\n",
    "print(I)\n",
    "print(\"RHS:\")\n",
    "print(-np.sqrt(pi)/2)"
   ]
  },
  {
   "cell_type": "code",
   "execution_count": 8,
   "metadata": {},
   "outputs": [
    {
     "name": "stdout",
     "output_type": "stream",
     "text": [
      "-7.670429459684071e-17\n",
      "0.24999999999999448\n",
      "1.2499999999999727\n"
     ]
    }
   ],
   "source": [
    "# Q4).\n",
    "x=np.linspace(-20,20,2001)\n",
    "h=x[1]-x[0]\n",
    "\n",
    "# subroutine for calculating psi\n",
    "def psi(x,N):\n",
    "    N_c=N_coeff(N)\n",
    "    psi=[]\n",
    "    for i in x:\n",
    "        psi_i=[]\n",
    "        H=hermite(i,N)\n",
    "        for j in range(N+1):\n",
    "            psi_i.append(N_c[j]*(np.exp(-(i*i)/2))*H[j])\n",
    "        psi.append(psi_i)\n",
    "    return np.reshape(np.array(psi),(len(x),N+1))\n",
    "\n",
    "# subroutine for calculating psi_2\n",
    "def psi_2(Psi,x):\n",
    "    rt_8=np.sqrt(8)\n",
    "    Psi_2=np.zeros(Psi.shape,dtype=float)\n",
    "    Psi_2[:,0]=np.multiply((np.multiply(x,x)-1),Psi[:,0])\n",
    "    Psi_2[:,1]=-(rt_8)*np.multiply(x,Psi[:,0])+np.multiply((np.multiply(x,x)-1),Psi[:,1])\n",
    "    for i in range(2,Psi.shape[1]):\n",
    "        Psi_2[:,i]=(2*(np.sqrt(i*(i-1)))*Psi[:,i-2])-(rt_8)*(np.sqrt(i))*(np.multiply(x,Psi[:,i-1]))+(np.multiply((np.multiply(x,x)-1),Psi[:,i]))\n",
    "    return Psi_2\n",
    "    \n",
    "# Calculating psi\n",
    "Psi=psi(x,4)\n",
    "\n",
    "# A)\n",
    "m=3\n",
    "n=2\n",
    "psi_m=Psi[:,m]\n",
    "psi_n=Psi[:,n]\n",
    "y=np.multiply(psi_m,psi_n)\n",
    "print(simpInt(h,y))\n",
    "\n",
    "\n",
    "# B)\n",
    "m=0\n",
    "Psi_m=Psi[:,m]\n",
    "VPsi_m=0.5*np.multiply(np.multiply(x,x),Psi_m)\n",
    "y=np.multiply(Psi_m,VPsi_m)\n",
    "print(simpInt(h,y))\n",
    "\n",
    "\n",
    "# C)\n",
    "m=2\n",
    "KPsi=-(0.5)*psi_2(Psi,x)\n",
    "KPsi_m=KPsi[:,m]\n",
    "Psi_m=Psi[:,m]\n",
    "y=np.multiply(Psi_m,KPsi_m)\n",
    "print(simpInt(h,y))"
   ]
  },
  {
   "cell_type": "code",
   "execution_count": 9,
   "metadata": {},
   "outputs": [
    {
     "name": "stdout",
     "output_type": "stream",
     "text": [
      "Expectation value matrix of V:\n",
      "[[ 2.50000000e-01  2.73174209e-17  3.53553391e-01 -3.71459292e-17\n",
      "  -2.43299468e-17]\n",
      " [ 2.73405435e-17  7.50000000e-01 -7.77797477e-17  6.12372436e-01\n",
      "  -4.97486634e-17]\n",
      " [ 3.53553391e-01 -7.78261032e-17  1.25000000e+00 -7.19797751e-17\n",
      "   8.66025404e-01]\n",
      " [-3.85806800e-17  6.12372436e-01 -7.19723212e-17  1.75000000e+00\n",
      "  -1.71793537e-16]\n",
      " [-2.26125798e-17 -2.36227477e-18  8.66025404e-01 -2.30704824e-16\n",
      "   2.25000000e+00]]\n",
      "Expectation value matrix of K:\n",
      "[[ 2.50000000e-01 -3.61962315e-17 -3.53553391e-01 -6.82632663e-17\n",
      "  -3.43595056e-16]\n",
      " [-2.39612026e-17  7.50000000e-01  1.91299491e-17 -6.12372436e-01\n",
      "  -1.19963032e-16]\n",
      " [-3.53553391e-01 -4.01103687e-18  1.25000000e+00 -8.05526355e-17\n",
      "  -8.66025404e-01]\n",
      " [ 1.97456739e-17 -6.12372436e-01  1.99311702e-18  1.75000000e+00\n",
      "  -6.72878423e-17]\n",
      " [-4.62817730e-17  1.39735262e-16 -8.66025404e-01  3.87768503e-17\n",
      "   2.25000000e+00]]\n",
      "Expectation value matrix of Hamiltonian:\n",
      "[[ 5.00000000e-01  1.04210471e-16 -4.46275480e-17  5.43388915e-17\n",
      "  -3.18558223e-16]\n",
      " [-6.16663095e-17  1.50000000e+00 -4.83451748e-17  3.28393768e-16\n",
      "   7.30549588e-17]\n",
      " [-5.07559283e-17  7.13623714e-17  2.50000000e+00 -3.90411885e-17\n",
      "   9.53161955e-16]\n",
      " [-3.21645478e-17 -1.17304807e-16 -1.32659874e-16  3.50000000e+00\n",
      "   3.38780956e-16]\n",
      " [-1.34034360e-17  2.16678257e-17  1.50010233e-16 -4.06106350e-16\n",
      "   4.50000000e+00]]\n"
     ]
    }
   ],
   "source": [
    "# Q5).\n",
    "# Potential Expectation\n",
    "V_ev=np.zeros((Psi.shape[1],Psi.shape[1]),dtype=float)\n",
    "for i in range(Psi.shape[1]):\n",
    "    for j in range(Psi.shape[1]):\n",
    "        VPsi_j=0.5*np.multiply(np.multiply(x,x),Psi[:,j])\n",
    "        V_ev[i,j]=simpInt(h,np.multiply(Psi[:,i],VPsi_j))\n",
    "print(\"Expectation value matrix of V:\")\n",
    "print(V_ev)\n",
    "        \n",
    "    \n",
    "# Kinetic Expectation    \n",
    "KPsi=-0.5*psi_2(Psi,x)\n",
    "K_ev=np.zeros((Psi.shape[1],Psi.shape[1]),dtype=float)\n",
    "for i in range(Psi.shape[1]):\n",
    "    for j in range(Psi.shape[1]):\n",
    "        K_ev[i,j]=simpInt(h,np.multiply(Psi[:,i],KPsi[:,j]))\n",
    "print(\"Expectation value matrix of K:\")\n",
    "print(K_ev)\n",
    "\n",
    "\n",
    "# Total Energy Expectation\n",
    "Hamil_ev=np.zeros((Psi.shape[1],Psi.shape[1]),dtype=float)\n",
    "for i in range(Psi.shape[1]):\n",
    "    for j in range(Psi.shape[1]):\n",
    "        VPsi_j = 0.5*np.multiply(np.multiply(x,x),Psi[:,j])\n",
    "        Hamil_ev[i,j]=simpInt(h,np.multiply(Psi[:,i],KPsi[:,j]+VPsi_j))\n",
    "print(\"Expectation value matrix of Hamiltonian:\")\n",
    "print(Hamil_ev)"
   ]
  },
  {
   "cell_type": "code",
   "execution_count": 10,
   "metadata": {},
   "outputs": [
    {
     "name": "stdout",
     "output_type": "stream",
     "text": [
      "2.2494875537468713\n",
      "Expectation value matrix of K:\n",
      "[[ 2.49987500e-01  9.41436603e-15 -3.53518037e-01  8.31547064e-16\n",
      "  -2.04103734e-05]\n",
      " [ 6.75902226e-16  7.49937503e-01  5.30034312e-15 -6.12270381e-01\n",
      "  -3.28313325e-15]\n",
      " [-3.53518037e-01  6.31501405e-15  1.24983751e+00 -1.35697318e-15\n",
      "  -8.65823350e-01]\n",
      " [-1.77681685e-15 -6.12270381e-01  7.26374436e-17  1.74968753e+00\n",
      "   1.80573026e-14]\n",
      " [-2.04103734e-05 -3.71106428e-15 -8.65823350e-01  2.14324234e-14\n",
      "   2.24948755e+00]]\n"
     ]
    }
   ],
   "source": [
    "# Q6.\n",
    "# subroutine for calculating double derivative numerically\n",
    "def psi_2num(Psi,h):\n",
    "    Psi_2=np.zeros(Psi.shape,dtype=float)\n",
    "    h2=h*h\n",
    "    for i in range(Psi.shape[1]):\n",
    "        for j in range(1,Psi.shape[0]-1):\n",
    "            d=(Psi[j+1,i]-2*Psi[j,i]+Psi[j-1,i])/h2\n",
    "            Psi_2[j,i]=d\n",
    "        Psi_2[0,i]=Psi_2[1,i]\n",
    "        Psi_2[Psi.shape[0]-1,i]=Psi_2[Psi.shape[0]-2,i]\n",
    "    return Psi_2\n",
    "\n",
    "# Calculating K*Psi\n",
    "KPsi_num=-(0.5)*psi_2num(Psi,h)\n",
    "\n",
    "\n",
    "# 4)B\n",
    "m=4\n",
    "KPsi_m=KPsi_num[:,m]\n",
    "Psi_m=Psi[:,m]\n",
    "y=np.multiply(Psi_m,KPsi_m)\n",
    "print(simpInt(h,y))\n",
    "\n",
    "\n",
    "# 5)\n",
    "K_ev=np.zeros((Psi.shape[1],Psi.shape[1]),dtype=float)\n",
    "for i in range(Psi.shape[1]):\n",
    "    for j in range(Psi.shape[1]):\n",
    "        K_ev[i,j]=simpInt(h,np.multiply(Psi[:,i],KPsi_num[:,j]))\n",
    "print(\"Expectation value matrix of K:\")\n",
    "print(K_ev)\n"
   ]
  },
  {
   "cell_type": "code",
   "execution_count": 11,
   "metadata": {},
   "outputs": [
    {
     "name": "stdout",
     "output_type": "stream",
     "text": [
      "Expectation value matrix of Hamiltonian:\n",
      "[[-2.86287694e+00  5.42369166e-04 -3.53011994e-01  4.40474868e-04\n",
      "   3.09266068e-04]\n",
      " [ 5.42369166e-04 -2.36211129e+00  1.52995068e-03 -6.10816177e-01\n",
      "   1.31222162e-03]\n",
      " [-3.53011994e-01  1.52995068e-03 -1.86058810e+00  3.41809810e-03\n",
      "  -8.62530376e-01]\n",
      " [ 4.40474868e-04 -6.10816177e-01  3.41809810e-03 -1.35782307e+00\n",
      "   6.75817028e-03]\n",
      " [ 3.09266068e-04  1.31222162e-03 -8.62530376e-01  6.75817028e-03\n",
      "  -8.53127817e-01]]\n"
     ]
    }
   ],
   "source": [
    "# Q7). Wood-Saxon Potential\n",
    "Hamil_ev2=np.zeros((Psi.shape[1],Psi.shape[1]),dtype=float)\n",
    "A=100\n",
    "# 41A^(-1/3) MeV = 1 natural unit\n",
    "# -55 MeV = -(55/41)*A^(1/3) natural unit\n",
    "V0=-(55/41)*(math.pow(A,1/3))\n",
    "for i in range(Psi.shape[1]):\n",
    "    for j in range(Psi.shape[1]):\n",
    "        VwPsi_j = 0.5*np.multiply(V0/(1+np.exp(2*(x-5))),Psi[:,j])\n",
    "        Hamil_ev2[i,j]=simpInt(h,np.multiply(Psi[:,i],KPsi[:,j]+VwPsi_j))\n",
    "print(\"Expectation value matrix of Hamiltonian:\")\n",
    "print(Hamil_ev2)"
   ]
  }
 ],
 "metadata": {
  "interpreter": {
   "hash": "31e9a9fdb727f4cab00c9bb2df7901a2e872a4cc83935cdcfda541b216adb23e"
  },
  "kernelspec": {
   "display_name": "Python 3.9.7 64-bit",
   "language": "python",
   "name": "python3"
  },
  "language_info": {
   "codemirror_mode": {
    "name": "ipython",
    "version": 3
   },
   "file_extension": ".py",
   "mimetype": "text/x-python",
   "name": "python",
   "nbconvert_exporter": "python",
   "pygments_lexer": "ipython3",
   "version": "3.9.7"
  }
 },
 "nbformat": 4,
 "nbformat_minor": 2
}
